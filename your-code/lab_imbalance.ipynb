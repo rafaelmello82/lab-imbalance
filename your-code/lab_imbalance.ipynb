{
 "cells": [
  {
   "cell_type": "markdown",
   "metadata": {},
   "source": [
    "# Inbalanced Classes\n",
    "## In this lab, we are going to explore a case of imbalanced classes. \n",
    "\n",
    "\n",
    "Like we disussed in class, when we have noisy data, if we are not careful, we can end up fitting our model to the noise in the data and not the 'signal'-- the factors that actually determine the outcome. This is called overfitting, and results in good results in training, and in bad results when the model is applied to real data. Similarly, we could have a model that is too simplistic to accurately model the signal. This produces a model that doesnt work well (ever). \n"
   ]
  },
  {
   "cell_type": "markdown",
   "metadata": {},
   "source": [
    "### Note: before doing the first commit, make sure you don't include the large csv file, either by adding it to .gitignore, or by deleting it."
   ]
  },
  {
   "cell_type": "markdown",
   "metadata": {},
   "source": [
    "### First, download the data from: https://www.kaggle.com/ntnu-testimon/paysim1. Import the dataset and provide some discriptive statistics and plots. What do you think will be the important features in determining the outcome?\n",
    "### Note: don't use the entire dataset, use a sample instead, with n=100000 elements, so your computer doesn't freeze."
   ]
  },
  {
   "cell_type": "code",
   "execution_count": 1,
   "metadata": {},
   "outputs": [],
   "source": [
    "#libraries\n",
    "import pandas as pd \n",
    "import numpy as np\n",
    "import matplotlib.pyplot as plt\n",
    "import seaborn as sns"
   ]
  },
  {
   "cell_type": "code",
   "execution_count": 2,
   "metadata": {},
   "outputs": [
    {
     "data": {
      "text/html": [
       "<div>\n",
       "<style scoped>\n",
       "    .dataframe tbody tr th:only-of-type {\n",
       "        vertical-align: middle;\n",
       "    }\n",
       "\n",
       "    .dataframe tbody tr th {\n",
       "        vertical-align: top;\n",
       "    }\n",
       "\n",
       "    .dataframe thead th {\n",
       "        text-align: right;\n",
       "    }\n",
       "</style>\n",
       "<table border=\"1\" class=\"dataframe\">\n",
       "  <thead>\n",
       "    <tr style=\"text-align: right;\">\n",
       "      <th></th>\n",
       "      <th>step</th>\n",
       "      <th>type</th>\n",
       "      <th>amount</th>\n",
       "      <th>nameOrig</th>\n",
       "      <th>oldbalanceOrg</th>\n",
       "      <th>newbalanceOrig</th>\n",
       "      <th>nameDest</th>\n",
       "      <th>oldbalanceDest</th>\n",
       "      <th>newbalanceDest</th>\n",
       "      <th>isFraud</th>\n",
       "      <th>isFlaggedFraud</th>\n",
       "    </tr>\n",
       "  </thead>\n",
       "  <tbody>\n",
       "    <tr>\n",
       "      <th>1803499</th>\n",
       "      <td>162</td>\n",
       "      <td>CASH_IN</td>\n",
       "      <td>284351.97</td>\n",
       "      <td>C1686548360</td>\n",
       "      <td>3732306.12</td>\n",
       "      <td>4016658.10</td>\n",
       "      <td>C1684470782</td>\n",
       "      <td>981884.40</td>\n",
       "      <td>697532.43</td>\n",
       "      <td>0</td>\n",
       "      <td>0</td>\n",
       "    </tr>\n",
       "    <tr>\n",
       "      <th>3167852</th>\n",
       "      <td>238</td>\n",
       "      <td>CASH_OUT</td>\n",
       "      <td>103041.27</td>\n",
       "      <td>C1134995140</td>\n",
       "      <td>0.00</td>\n",
       "      <td>0.00</td>\n",
       "      <td>C409246190</td>\n",
       "      <td>413313.77</td>\n",
       "      <td>516355.04</td>\n",
       "      <td>0</td>\n",
       "      <td>0</td>\n",
       "    </tr>\n",
       "    <tr>\n",
       "      <th>3052019</th>\n",
       "      <td>234</td>\n",
       "      <td>DEBIT</td>\n",
       "      <td>5338.94</td>\n",
       "      <td>C2027636163</td>\n",
       "      <td>145233.00</td>\n",
       "      <td>139894.06</td>\n",
       "      <td>C630992202</td>\n",
       "      <td>204066.35</td>\n",
       "      <td>209405.29</td>\n",
       "      <td>0</td>\n",
       "      <td>0</td>\n",
       "    </tr>\n",
       "    <tr>\n",
       "      <th>2056495</th>\n",
       "      <td>181</td>\n",
       "      <td>CASH_OUT</td>\n",
       "      <td>341987.00</td>\n",
       "      <td>C1473511516</td>\n",
       "      <td>37461.00</td>\n",
       "      <td>0.00</td>\n",
       "      <td>C532593878</td>\n",
       "      <td>2605626.72</td>\n",
       "      <td>2947613.72</td>\n",
       "      <td>0</td>\n",
       "      <td>0</td>\n",
       "    </tr>\n",
       "    <tr>\n",
       "      <th>3100221</th>\n",
       "      <td>235</td>\n",
       "      <td>CASH_OUT</td>\n",
       "      <td>154164.08</td>\n",
       "      <td>C30135885</td>\n",
       "      <td>77349.00</td>\n",
       "      <td>0.00</td>\n",
       "      <td>C2133500034</td>\n",
       "      <td>532111.43</td>\n",
       "      <td>686275.51</td>\n",
       "      <td>0</td>\n",
       "      <td>0</td>\n",
       "    </tr>\n",
       "  </tbody>\n",
       "</table>\n",
       "</div>"
      ],
      "text/plain": [
       "         step      type     amount     nameOrig  oldbalanceOrg  \\\n",
       "1803499   162   CASH_IN  284351.97  C1686548360     3732306.12   \n",
       "3167852   238  CASH_OUT  103041.27  C1134995140           0.00   \n",
       "3052019   234     DEBIT    5338.94  C2027636163      145233.00   \n",
       "2056495   181  CASH_OUT  341987.00  C1473511516       37461.00   \n",
       "3100221   235  CASH_OUT  154164.08    C30135885       77349.00   \n",
       "\n",
       "         newbalanceOrig     nameDest  oldbalanceDest  newbalanceDest  isFraud  \\\n",
       "1803499      4016658.10  C1684470782       981884.40       697532.43        0   \n",
       "3167852            0.00   C409246190       413313.77       516355.04        0   \n",
       "3052019       139894.06   C630992202       204066.35       209405.29        0   \n",
       "2056495            0.00   C532593878      2605626.72      2947613.72        0   \n",
       "3100221            0.00  C2133500034       532111.43       686275.51        0   \n",
       "\n",
       "         isFlaggedFraud  \n",
       "1803499               0  \n",
       "3167852               0  \n",
       "3052019               0  \n",
       "2056495               0  \n",
       "3100221               0  "
      ]
     },
     "execution_count": 2,
     "metadata": {},
     "output_type": "execute_result"
    }
   ],
   "source": [
    "# Your code here\n",
    "\n",
    "data = pd.read_csv('PS_20174392719_1491204439457_log.csv')\n",
    "sample = data.sample(n=100000)\n",
    "data = sample \n",
    "data.head()\n"
   ]
  },
  {
   "cell_type": "code",
   "execution_count": 3,
   "metadata": {},
   "outputs": [
    {
     "data": {
      "text/plain": [
       "step                int64\n",
       "type               object\n",
       "amount            float64\n",
       "nameOrig           object\n",
       "oldbalanceOrg     float64\n",
       "newbalanceOrig    float64\n",
       "nameDest           object\n",
       "oldbalanceDest    float64\n",
       "newbalanceDest    float64\n",
       "isFraud             int64\n",
       "isFlaggedFraud      int64\n",
       "dtype: object"
      ]
     },
     "execution_count": 3,
     "metadata": {},
     "output_type": "execute_result"
    }
   ],
   "source": [
    "data.dtypes"
   ]
  },
  {
   "cell_type": "code",
   "execution_count": 4,
   "metadata": {},
   "outputs": [
    {
     "data": {
      "text/plain": [
       "Index(['step', 'type', 'amount', 'nameOrig', 'oldbalanceOrg', 'newbalanceOrig',\n",
       "       'nameDest', 'oldbalanceDest', 'newbalanceDest', 'isFraud',\n",
       "       'isFlaggedFraud'],\n",
       "      dtype='object')"
      ]
     },
     "execution_count": 4,
     "metadata": {},
     "output_type": "execute_result"
    }
   ],
   "source": [
    "data.columns"
   ]
  },
  {
   "cell_type": "code",
   "execution_count": 5,
   "metadata": {},
   "outputs": [
    {
     "data": {
      "text/plain": [
       "(100000, 11)"
      ]
     },
     "execution_count": 5,
     "metadata": {},
     "output_type": "execute_result"
    }
   ],
   "source": [
    "data.shape"
   ]
  },
  {
   "cell_type": "code",
   "execution_count": 6,
   "metadata": {},
   "outputs": [
    {
     "data": {
      "text/html": [
       "<div>\n",
       "<style scoped>\n",
       "    .dataframe tbody tr th:only-of-type {\n",
       "        vertical-align: middle;\n",
       "    }\n",
       "\n",
       "    .dataframe tbody tr th {\n",
       "        vertical-align: top;\n",
       "    }\n",
       "\n",
       "    .dataframe thead th {\n",
       "        text-align: right;\n",
       "    }\n",
       "</style>\n",
       "<table border=\"1\" class=\"dataframe\">\n",
       "  <thead>\n",
       "    <tr style=\"text-align: right;\">\n",
       "      <th></th>\n",
       "      <th>step</th>\n",
       "      <th>amount</th>\n",
       "      <th>oldbalanceOrg</th>\n",
       "      <th>newbalanceOrig</th>\n",
       "      <th>oldbalanceDest</th>\n",
       "      <th>newbalanceDest</th>\n",
       "      <th>isFraud</th>\n",
       "      <th>isFlaggedFraud</th>\n",
       "    </tr>\n",
       "  </thead>\n",
       "  <tbody>\n",
       "    <tr>\n",
       "      <th>count</th>\n",
       "      <td>100000.000000</td>\n",
       "      <td>1.000000e+05</td>\n",
       "      <td>1.000000e+05</td>\n",
       "      <td>1.000000e+05</td>\n",
       "      <td>1.000000e+05</td>\n",
       "      <td>1.000000e+05</td>\n",
       "      <td>100000.000000</td>\n",
       "      <td>100000.0</td>\n",
       "    </tr>\n",
       "    <tr>\n",
       "      <th>mean</th>\n",
       "      <td>242.998960</td>\n",
       "      <td>1.796534e+05</td>\n",
       "      <td>8.376539e+05</td>\n",
       "      <td>8.587266e+05</td>\n",
       "      <td>1.106512e+06</td>\n",
       "      <td>1.230503e+06</td>\n",
       "      <td>0.001060</td>\n",
       "      <td>0.0</td>\n",
       "    </tr>\n",
       "    <tr>\n",
       "      <th>std</th>\n",
       "      <td>141.668986</td>\n",
       "      <td>6.445255e+05</td>\n",
       "      <td>2.904827e+06</td>\n",
       "      <td>2.940391e+06</td>\n",
       "      <td>3.382991e+06</td>\n",
       "      <td>3.642988e+06</td>\n",
       "      <td>0.032541</td>\n",
       "      <td>0.0</td>\n",
       "    </tr>\n",
       "    <tr>\n",
       "      <th>min</th>\n",
       "      <td>1.000000</td>\n",
       "      <td>1.270000e+00</td>\n",
       "      <td>0.000000e+00</td>\n",
       "      <td>0.000000e+00</td>\n",
       "      <td>0.000000e+00</td>\n",
       "      <td>0.000000e+00</td>\n",
       "      <td>0.000000</td>\n",
       "      <td>0.0</td>\n",
       "    </tr>\n",
       "    <tr>\n",
       "      <th>25%</th>\n",
       "      <td>156.000000</td>\n",
       "      <td>1.331968e+04</td>\n",
       "      <td>0.000000e+00</td>\n",
       "      <td>0.000000e+00</td>\n",
       "      <td>0.000000e+00</td>\n",
       "      <td>0.000000e+00</td>\n",
       "      <td>0.000000</td>\n",
       "      <td>0.0</td>\n",
       "    </tr>\n",
       "    <tr>\n",
       "      <th>50%</th>\n",
       "      <td>237.000000</td>\n",
       "      <td>7.479776e+04</td>\n",
       "      <td>1.419617e+04</td>\n",
       "      <td>0.000000e+00</td>\n",
       "      <td>1.332427e+05</td>\n",
       "      <td>2.163586e+05</td>\n",
       "      <td>0.000000</td>\n",
       "      <td>0.0</td>\n",
       "    </tr>\n",
       "    <tr>\n",
       "      <th>75%</th>\n",
       "      <td>334.000000</td>\n",
       "      <td>2.087050e+05</td>\n",
       "      <td>1.072834e+05</td>\n",
       "      <td>1.443899e+05</td>\n",
       "      <td>9.498989e+05</td>\n",
       "      <td>1.116657e+06</td>\n",
       "      <td>0.000000</td>\n",
       "      <td>0.0</td>\n",
       "    </tr>\n",
       "    <tr>\n",
       "      <th>max</th>\n",
       "      <td>730.000000</td>\n",
       "      <td>9.244552e+07</td>\n",
       "      <td>3.380425e+07</td>\n",
       "      <td>3.392785e+07</td>\n",
       "      <td>2.754052e+08</td>\n",
       "      <td>2.752770e+08</td>\n",
       "      <td>1.000000</td>\n",
       "      <td>0.0</td>\n",
       "    </tr>\n",
       "  </tbody>\n",
       "</table>\n",
       "</div>"
      ],
      "text/plain": [
       "                step        amount  oldbalanceOrg  newbalanceOrig  \\\n",
       "count  100000.000000  1.000000e+05   1.000000e+05    1.000000e+05   \n",
       "mean      242.998960  1.796534e+05   8.376539e+05    8.587266e+05   \n",
       "std       141.668986  6.445255e+05   2.904827e+06    2.940391e+06   \n",
       "min         1.000000  1.270000e+00   0.000000e+00    0.000000e+00   \n",
       "25%       156.000000  1.331968e+04   0.000000e+00    0.000000e+00   \n",
       "50%       237.000000  7.479776e+04   1.419617e+04    0.000000e+00   \n",
       "75%       334.000000  2.087050e+05   1.072834e+05    1.443899e+05   \n",
       "max       730.000000  9.244552e+07   3.380425e+07    3.392785e+07   \n",
       "\n",
       "       oldbalanceDest  newbalanceDest        isFraud  isFlaggedFraud  \n",
       "count    1.000000e+05    1.000000e+05  100000.000000        100000.0  \n",
       "mean     1.106512e+06    1.230503e+06       0.001060             0.0  \n",
       "std      3.382991e+06    3.642988e+06       0.032541             0.0  \n",
       "min      0.000000e+00    0.000000e+00       0.000000             0.0  \n",
       "25%      0.000000e+00    0.000000e+00       0.000000             0.0  \n",
       "50%      1.332427e+05    2.163586e+05       0.000000             0.0  \n",
       "75%      9.498989e+05    1.116657e+06       0.000000             0.0  \n",
       "max      2.754052e+08    2.752770e+08       1.000000             0.0  "
      ]
     },
     "execution_count": 6,
     "metadata": {},
     "output_type": "execute_result"
    }
   ],
   "source": [
    "data.describe()"
   ]
  },
  {
   "cell_type": "code",
   "execution_count": 7,
   "metadata": {},
   "outputs": [
    {
     "data": {
      "text/html": [
       "<div>\n",
       "<style scoped>\n",
       "    .dataframe tbody tr th:only-of-type {\n",
       "        vertical-align: middle;\n",
       "    }\n",
       "\n",
       "    .dataframe tbody tr th {\n",
       "        vertical-align: top;\n",
       "    }\n",
       "\n",
       "    .dataframe thead th {\n",
       "        text-align: right;\n",
       "    }\n",
       "</style>\n",
       "<table border=\"1\" class=\"dataframe\">\n",
       "  <thead>\n",
       "    <tr style=\"text-align: right;\">\n",
       "      <th></th>\n",
       "      <th>step</th>\n",
       "      <th>amount</th>\n",
       "      <th>oldbalanceOrg</th>\n",
       "      <th>newbalanceOrig</th>\n",
       "      <th>oldbalanceDest</th>\n",
       "      <th>newbalanceDest</th>\n",
       "      <th>isFraud</th>\n",
       "      <th>isFlaggedFraud</th>\n",
       "    </tr>\n",
       "  </thead>\n",
       "  <tbody>\n",
       "    <tr>\n",
       "      <th>step</th>\n",
       "      <td>1.000000</td>\n",
       "      <td>0.019790</td>\n",
       "      <td>-0.008658</td>\n",
       "      <td>-0.008448</td>\n",
       "      <td>0.025241</td>\n",
       "      <td>0.023410</td>\n",
       "      <td>0.021053</td>\n",
       "      <td>NaN</td>\n",
       "    </tr>\n",
       "    <tr>\n",
       "      <th>amount</th>\n",
       "      <td>0.019790</td>\n",
       "      <td>1.000000</td>\n",
       "      <td>-0.005745</td>\n",
       "      <td>-0.009988</td>\n",
       "      <td>0.271999</td>\n",
       "      <td>0.444877</td>\n",
       "      <td>0.071083</td>\n",
       "      <td>NaN</td>\n",
       "    </tr>\n",
       "    <tr>\n",
       "      <th>oldbalanceOrg</th>\n",
       "      <td>-0.008658</td>\n",
       "      <td>-0.005745</td>\n",
       "      <td>1.000000</td>\n",
       "      <td>0.998879</td>\n",
       "      <td>0.071756</td>\n",
       "      <td>0.047930</td>\n",
       "      <td>0.008732</td>\n",
       "      <td>NaN</td>\n",
       "    </tr>\n",
       "    <tr>\n",
       "      <th>newbalanceOrig</th>\n",
       "      <td>-0.008448</td>\n",
       "      <td>-0.009988</td>\n",
       "      <td>0.998879</td>\n",
       "      <td>1.000000</td>\n",
       "      <td>0.073514</td>\n",
       "      <td>0.047798</td>\n",
       "      <td>-0.009107</td>\n",
       "      <td>NaN</td>\n",
       "    </tr>\n",
       "    <tr>\n",
       "      <th>oldbalanceDest</th>\n",
       "      <td>0.025241</td>\n",
       "      <td>0.271999</td>\n",
       "      <td>0.071756</td>\n",
       "      <td>0.073514</td>\n",
       "      <td>1.000000</td>\n",
       "      <td>0.976474</td>\n",
       "      <td>-0.005312</td>\n",
       "      <td>NaN</td>\n",
       "    </tr>\n",
       "    <tr>\n",
       "      <th>newbalanceDest</th>\n",
       "      <td>0.023410</td>\n",
       "      <td>0.444877</td>\n",
       "      <td>0.047930</td>\n",
       "      <td>0.047798</td>\n",
       "      <td>0.976474</td>\n",
       "      <td>1.000000</td>\n",
       "      <td>0.002607</td>\n",
       "      <td>NaN</td>\n",
       "    </tr>\n",
       "    <tr>\n",
       "      <th>isFraud</th>\n",
       "      <td>0.021053</td>\n",
       "      <td>0.071083</td>\n",
       "      <td>0.008732</td>\n",
       "      <td>-0.009107</td>\n",
       "      <td>-0.005312</td>\n",
       "      <td>0.002607</td>\n",
       "      <td>1.000000</td>\n",
       "      <td>NaN</td>\n",
       "    </tr>\n",
       "    <tr>\n",
       "      <th>isFlaggedFraud</th>\n",
       "      <td>NaN</td>\n",
       "      <td>NaN</td>\n",
       "      <td>NaN</td>\n",
       "      <td>NaN</td>\n",
       "      <td>NaN</td>\n",
       "      <td>NaN</td>\n",
       "      <td>NaN</td>\n",
       "      <td>NaN</td>\n",
       "    </tr>\n",
       "  </tbody>\n",
       "</table>\n",
       "</div>"
      ],
      "text/plain": [
       "                    step    amount  oldbalanceOrg  newbalanceOrig  \\\n",
       "step            1.000000  0.019790      -0.008658       -0.008448   \n",
       "amount          0.019790  1.000000      -0.005745       -0.009988   \n",
       "oldbalanceOrg  -0.008658 -0.005745       1.000000        0.998879   \n",
       "newbalanceOrig -0.008448 -0.009988       0.998879        1.000000   \n",
       "oldbalanceDest  0.025241  0.271999       0.071756        0.073514   \n",
       "newbalanceDest  0.023410  0.444877       0.047930        0.047798   \n",
       "isFraud         0.021053  0.071083       0.008732       -0.009107   \n",
       "isFlaggedFraud       NaN       NaN            NaN             NaN   \n",
       "\n",
       "                oldbalanceDest  newbalanceDest   isFraud  isFlaggedFraud  \n",
       "step                  0.025241        0.023410  0.021053             NaN  \n",
       "amount                0.271999        0.444877  0.071083             NaN  \n",
       "oldbalanceOrg         0.071756        0.047930  0.008732             NaN  \n",
       "newbalanceOrig        0.073514        0.047798 -0.009107             NaN  \n",
       "oldbalanceDest        1.000000        0.976474 -0.005312             NaN  \n",
       "newbalanceDest        0.976474        1.000000  0.002607             NaN  \n",
       "isFraud              -0.005312        0.002607  1.000000             NaN  \n",
       "isFlaggedFraud             NaN             NaN       NaN             NaN  "
      ]
     },
     "execution_count": 7,
     "metadata": {},
     "output_type": "execute_result"
    }
   ],
   "source": [
    "data.corr()"
   ]
  },
  {
   "cell_type": "code",
   "execution_count": 8,
   "metadata": {},
   "outputs": [
    {
     "data": {
      "text/plain": [
       "array([0, 1])"
      ]
     },
     "execution_count": 8,
     "metadata": {},
     "output_type": "execute_result"
    }
   ],
   "source": [
    "data.isFraud.unique() "
   ]
  },
  {
   "cell_type": "code",
   "execution_count": 9,
   "metadata": {},
   "outputs": [
    {
     "data": {
      "text/plain": [
       "<matplotlib.axes._subplots.AxesSubplot at 0x7fb2c466ef10>"
      ]
     },
     "execution_count": 9,
     "metadata": {},
     "output_type": "execute_result"
    },
    {
     "data": {
      "image/png": "[encoded data removed]",
      "text/plain": [
       "<Figure size 432x288 with 1 Axes>"
      ]
     },
     "metadata": {
      "needs_background": "light"
     },
     "output_type": "display_data"
    }
   ],
   "source": [
    "data[\"type\"].value_counts()[:11].plot(kind = \"bar\")"
   ]
  },
  {
   "cell_type": "code",
   "execution_count": 10,
   "metadata": {},
   "outputs": [
    {
     "data": {
      "text/plain": [
       "<matplotlib.axes._subplots.AxesSubplot at 0x7fb2c466ec90>"
      ]
     },
     "execution_count": 10,
     "metadata": {},
     "output_type": "execute_result"
    },
    {
     "data": {
      "image/png": "[encoded data removed]",
      "text/plain": [
       "<Figure size 792x648 with 2 Axes>"
      ]
     },
     "metadata": {},
     "output_type": "display_data"
    }
   ],
   "source": [
    "#plot  heatmap\n",
    "\n",
    "corr = data.corr(method='spearman')\n",
    "\n",
    "\n",
    "sns.set(style=\"white\")\n",
    "\n",
    "\n",
    "# Generate a mask for the upper triangle\n",
    "mask = np.triu(np.ones_like(corr, dtype=np.bool))\n",
    "\n",
    "# Set up the matplotlib figure\n",
    "f, ax = plt.subplots(figsize=(11, 9))\n",
    "\n",
    "# Generate a custom diverging colormap\n",
    "cmap = sns.diverging_palette(220, 10, as_cmap=True)\n",
    "\n",
    "# Draw the heatmap with the mask and correct aspect ratio\n",
    "sns.heatmap(corr, mask=mask, cmap=cmap, vmin= -1, vmax=1, center=0,\n",
    "            square=True, annot=True, linewidths=.5, cbar_kws={\"shrink\": .5})\n"
   ]
  },
  {
   "cell_type": "markdown",
   "metadata": {},
   "source": [
    "### What is the distribution of the outcome? "
   ]
  },
  {
   "cell_type": "code",
   "execution_count": 11,
   "metadata": {},
   "outputs": [
    {
     "data": {
      "text/plain": [
       "0    99894\n",
       "1      106\n",
       "Name: isFraud, dtype: int64"
      ]
     },
     "execution_count": 11,
     "metadata": {},
     "output_type": "execute_result"
    }
   ],
   "source": [
    "data['isFraud'].value_counts()"
   ]
  },
  {
   "cell_type": "code",
   "execution_count": 12,
   "metadata": {},
   "outputs": [
    {
     "data": {
      "text/plain": [
       "0    0.99894\n",
       "1    0.00106\n",
       "Name: isFraud, dtype: float64"
      ]
     },
     "execution_count": 12,
     "metadata": {},
     "output_type": "execute_result"
    }
   ],
   "source": [
    "data['isFraud'].value_counts() / len(data['isFraud'])"
   ]
  },
  {
   "cell_type": "code",
   "execution_count": 13,
   "metadata": {},
   "outputs": [
    {
     "data": {
      "text/plain": [
       "<matplotlib.axes._subplots.AxesSubplot at 0x7fb2c448f050>"
      ]
     },
     "execution_count": 13,
     "metadata": {},
     "output_type": "execute_result"
    },
    {
     "data": {
      "image/png": "[encoded data removed]",
      "text/plain": [
       "<Figure size 432x288 with 1 Axes>"
      ]
     },
     "metadata": {},
     "output_type": "display_data"
    }
   ],
   "source": [
    "data[\"isFraud\"].value_counts().plot(kind = \"bar\")"
   ]
  },
  {
   "cell_type": "code",
   "execution_count": 14,
   "metadata": {},
   "outputs": [],
   "source": [
    "# Your response here\n",
    "\n",
    "# this distribution looks like realy imbalance"
   ]
  },
  {
   "cell_type": "markdown",
   "metadata": {},
   "source": [
    "### Clean the dataset. How are you going to integrate the time variable? Do you think the step (integer) coding in which it is given is appropriate?"
   ]
  },
  {
   "cell_type": "code",
   "execution_count": 15,
   "metadata": {},
   "outputs": [],
   "source": [
    "# turn steps into unit = days\n",
    "data['step'] = (data['step']/24).astype(int)"
   ]
  },
  {
   "cell_type": "code",
   "execution_count": 16,
   "metadata": {},
   "outputs": [],
   "source": [
    "# let´s drop of useless columns\n",
    "\n",
    "data = data.drop(columns=['nameOrig','nameDest', 'newbalanceOrig', 'newbalanceDest'])"
   ]
  },
  {
   "cell_type": "markdown",
   "metadata": {},
   "source": [
    "### Run a logisitc regression classifier and evaluate its accuracy."
   ]
  },
  {
   "cell_type": "code",
   "execution_count": 17,
   "metadata": {},
   "outputs": [],
   "source": [
    "#creating dummies\n",
    "dummy = pd.get_dummies(data)\n",
    "data = dummy"
   ]
  },
  {
   "cell_type": "code",
   "execution_count": 18,
   "metadata": {},
   "outputs": [],
   "source": [
    "# Your code here\n",
    "\n",
    "# lets separate the dataframe \n",
    "X = data.drop(['isFraud'], axis =1) # features\n",
    "y = data['isFraud'] # target\n",
    "\n",
    "# splitting the data to train and test\n",
    "from sklearn.model_selection import train_test_split\n",
    "\n",
    "X_train, X_test, y_train, y_test = train_test_split(X, y, test_size = 0.2, random_state=0)"
   ]
  },
  {
   "cell_type": "code",
   "execution_count": 19,
   "metadata": {},
   "outputs": [
    {
     "name": "stdout",
     "output_type": "stream",
     "text": [
      "Confusion matrix\n",
      "[[19977    23]\n",
      " [    0     0]]\n",
      "-------------------------------------------------------\n",
      "Accuracy score\n",
      "0.99885\n",
      "-------------------------------------------------------\n",
      "Classification report\n",
      "              precision    recall  f1-score   support\n",
      "\n",
      "           0       1.00      1.00      1.00     20000\n",
      "           1       0.00      0.00      0.00         0\n",
      "\n",
      "    accuracy                           1.00     20000\n",
      "   macro avg       0.50      0.50      0.50     20000\n",
      "weighted avg       1.00      1.00      1.00     20000\n",
      "\n"
     ]
    },
    {
     "name": "stderr",
     "output_type": "stream",
     "text": [
      "/Users/rafaelmello/opt/anaconda3/lib/python3.7/site-packages/sklearn/metrics/_classification.py:1272: UndefinedMetricWarning: Recall and F-score are ill-defined and being set to 0.0 in labels with no true samples. Use `zero_division` parameter to control this behavior.\n",
      "  _warn_prf(average, modifier, msg_start, len(result))\n"
     ]
    }
   ],
   "source": [
    "from sklearn.linear_model import LogisticRegression \n",
    "\n",
    "# Initialize model and define hyperparameters\n",
    "model = LogisticRegression(max_iter=2000)\n",
    "# max_iter=2000 above avoids error message (max number of interations reached)\n",
    "# if max number of interations reached, we may not reach the best model\n",
    "# here we train the model\n",
    "model.fit(X_train, y_train)\n",
    "\n",
    "\n",
    "from sklearn.metrics import confusion_matrix, accuracy_score, classification_report\n",
    "\n",
    "#predictions: test data\n",
    "y_pred = model.predict(X_test)\n",
    "# compare predictions to actual answers\n",
    "print('Confusion matrix')\n",
    "print(confusion_matrix(y_pred,y_test))\n",
    "print('-------------------------------------------------------')\n",
    "# accuracy_score\n",
    "# fitted X_test data vs. y_test data (actual answer)\n",
    "print('Accuracy score')\n",
    "print(accuracy_score(y_pred,y_test))\n",
    "print('-------------------------------------------------------')\n",
    "# classification report\n",
    "print('Classification report')\n",
    "print(classification_report(y_pred,y_test))\n"
   ]
  },
  {
   "cell_type": "markdown",
   "metadata": {},
   "source": [
    "### Now pick a model of your choice and evaluate its accuracy."
   ]
  },
  {
   "cell_type": "code",
   "execution_count": 25,
   "metadata": {},
   "outputs": [
    {
     "name": "stdout",
     "output_type": "stream",
     "text": [
      "Confusion matrix\n",
      "[[19963    15]\n",
      " [   14     8]]\n",
      "-------------------------------------------------------\n",
      "Accuracy score\n",
      "0.99855\n",
      "-------------------------------------------------------\n",
      "Classification report\n",
      "              precision    recall  f1-score   support\n",
      "\n",
      "           0       1.00      1.00      1.00     19978\n",
      "           1       0.35      0.36      0.36        22\n",
      "\n",
      "    accuracy                           1.00     20000\n",
      "   macro avg       0.67      0.68      0.68     20000\n",
      "weighted avg       1.00      1.00      1.00     20000\n",
      "\n"
     ]
    }
   ],
   "source": [
    "# Your code here\n",
    "\n",
    "from sklearn.tree import DecisionTreeClassifier\n",
    "# initialize the model\n",
    "dtc = DecisionTreeClassifier()\n",
    "# fit the model to the training data\n",
    "dtc.fit(X_train, y_train)\n",
    "\n",
    "\n",
    "\n",
    "#predictions: test data\n",
    "y_pred = dtc.predict(X_test)\n",
    "# compare predictions to actual answers\n",
    "print('Confusion matrix')\n",
    "print(confusion_matrix(y_pred,y_test))\n",
    "print('-------------------------------------------------------')\n",
    "# accuracy_score\n",
    "# fitted X_test data vs. y_test data (actual answer)\n",
    "print('Accuracy score')\n",
    "print(accuracy_score(y_pred,y_test))\n",
    "print('-------------------------------------------------------')\n",
    "# classification report\n",
    "print('Classification report')\n",
    "print(classification_report(y_pred,y_test))\n",
    "\n"
   ]
  },
  {
   "cell_type": "code",
   "execution_count": 28,
   "metadata": {},
   "outputs": [
    {
     "name": "stdout",
     "output_type": "stream",
     "text": [
      "Confusion matrix\n",
      "[[19976    16]\n",
      " [    1     7]]\n",
      "-------------------------------------------------------\n",
      "Accuracy score\n",
      "0.99915\n",
      "-------------------------------------------------------\n",
      "Classification report\n",
      "              precision    recall  f1-score   support\n",
      "\n",
      "           0       1.00      1.00      1.00     19992\n",
      "           1       0.30      0.88      0.45         8\n",
      "\n",
      "    accuracy                           1.00     20000\n",
      "   macro avg       0.65      0.94      0.73     20000\n",
      "weighted avg       1.00      1.00      1.00     20000\n",
      "\n"
     ]
    }
   ],
   "source": [
    "# Random forest\n",
    "from sklearn.ensemble import RandomForestClassifier\n",
    "#from sklearn.linear_model import ridge_regression\n",
    "# create an instance of the model\n",
    "forest = RandomForestClassifier()\n",
    "# fit the model\n",
    "forest.fit(X_train, y_train)\n",
    "# predict for test\n",
    "y_pred = forest.predict(X_test)\n",
    "# compare predictions to actual answers\n",
    "print('Confusion matrix')\n",
    "print(confusion_matrix(y_pred,y_test)) # got an error\n",
    "print('-------------------------------------------------------')\n",
    "# accuracy_score\n",
    "# fitted X_test data vs. y_test data (actual answer)\n",
    "print('Accuracy score')\n",
    "print(forest.score(X_test,y_test))\n",
    "#print(accuracy_score(y_pred,y_test)) does the exact same thing as forest.score(X_test,y_test)\n",
    "#forest.score(X_test,y_test)\n",
    "print('-------------------------------------------------------')\n",
    "# classification report\n",
    "print('Classification report')\n",
    "print(classification_report(y_pred,y_test))\n"
   ]
  },
  {
   "cell_type": "code",
   "execution_count": 32,
   "metadata": {},
   "outputs": [
    {
     "name": "stdout",
     "output_type": "stream",
     "text": [
      "1    83\n",
      "0    83\n",
      "Name: isFraud, dtype: int64\n",
      "Confusion matrix\n",
      "[[11  1]\n",
      " [ 4 18]]\n",
      "-------------------------------------------------------\n",
      "Accuracy score\n",
      "0.8529411764705882\n",
      "-------------------------------------------------------\n",
      "Classification report\n",
      "              precision    recall  f1-score   support\n",
      "\n",
      "           0       0.73      0.92      0.81        12\n",
      "           1       0.95      0.82      0.88        22\n",
      "\n",
      "    accuracy                           0.85        34\n",
      "   macro avg       0.84      0.87      0.85        34\n",
      "weighted avg       0.87      0.85      0.86        34\n",
      "\n"
     ]
    }
   ],
   "source": [
    "# let's do some undersampling\n",
    "\n",
    "from sklearn.utils import resample\n",
    "# separate input features and target\n",
    "X = dummy.drop(['isFraud'], axis =1) # features\n",
    "y = dummy['isFraud'] # target\n",
    "#split into training and testing subsets\n",
    "X_train, X_test, y_train, y_test = train_test_split(X, y, test_size = 0.2, random_state=0)\n",
    "# concatenate training data back together\n",
    "X = pd.concat([X_train, y_train], axis=1)\n",
    "# separate majority and minority classes\n",
    "not_fraud = X[X.isFraud == 0]\n",
    "fraud = X[X.isFraud == 1]\n",
    "#downsample majority\n",
    "not_fraud_downsampled = resample(not_fraud,\n",
    "                                replace=False, # sample without replacemente\n",
    "                                n_samples=len(fraud), # match minority n\n",
    "                                random_state=0) #reproducible results\n",
    "# combine minority and downsampled majority\n",
    "downsampled = pd.concat([not_fraud_downsampled, fraud])\n",
    "# check results\n",
    "\n",
    "downsampled['isFraud'].value_counts()\n",
    "print(downsampled['isFraud'].value_counts())\n",
    "# separate input features and target\n",
    "X = downsampled.drop(['isFraud'], axis =1) # features\n",
    "y = downsampled['isFraud'] # target\n",
    "#split into training and testing subsets\n",
    "X_train, X_test, y_train, y_test = train_test_split(X, y, test_size = 0.2, random_state=0)\n",
    "# create an instance of the model\n",
    "forest = RandomForestClassifier()\n",
    "# fit the model\n",
    "forest.fit(X_train, y_train)\n",
    "# predict for test\n",
    "y_pred = forest.predict(X_test)\n",
    "# compare predictions to actual answers\n",
    "print('Confusion matrix')\n",
    "print(confusion_matrix(y_pred,y_test))\n",
    "print('-------------------------------------------------------')\n",
    "# accuracy_score\n",
    "# fitted X_test data vs. y_test data (actual answers)\n",
    "print('Accuracy score')\n",
    "print(forest.score(X_test,y_test))\n",
    "#print(accuracy_score(y_pred,y_test)) does the exact same thing as forest.score(X_test,y_test)\n",
    "print('-------------------------------------------------------')\n",
    "# classification report\n",
    "print('Classification report')\n",
    "print(classification_report(y_pred,y_test))"
   ]
  },
  {
   "cell_type": "markdown",
   "metadata": {},
   "source": [
    "### Which model worked better and how do you know?"
   ]
  },
  {
   "cell_type": "code",
   "execution_count": 21,
   "metadata": {},
   "outputs": [],
   "source": [
    "# Your response here\n",
    "\n",
    "#the best model is random forrest classifier, but after the downsampling the result of the random forrest classifier inproves a lot  "
   ]
  },
  {
   "cell_type": "code",
   "execution_count": null,
   "metadata": {},
   "outputs": [],
   "source": []
  },
  {
   "cell_type": "markdown",
   "metadata": {},
   "source": [
    "### Note: before doing the first commit, make sure you don't include the large csv file, either by adding it to .gitignore, or by deleting it."
   ]
  }
 ],
 "metadata": {
  "kernelspec": {
   "display_name": "Python 3",
   "language": "python",
   "name": "python3"
  },
  "language_info": {
   "codemirror_mode": {
    "name": "ipython",
    "version": 3
   },
   "file_extension": ".py",
   "mimetype": "text/x-python",
   "name": "python",
   "nbconvert_exporter": "python",
   "pygments_lexer": "ipython3",
   "version": "3.7.6"
  },
  "toc": {
   "base_numbering": 1,
   "nav_menu": {},
   "number_sections": true,
   "sideBar": true,
   "skip_h1_title": false,
   "title_cell": "Table of Contents",
   "title_sidebar": "Contents",
   "toc_cell": false,
   "toc_position": {},
   "toc_section_display": true,
   "toc_window_display": false
  }
 },
 "nbformat": 4,
 "nbformat_minor": 2
}
